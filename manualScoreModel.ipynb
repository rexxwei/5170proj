{
 "cells": [
  {
   "cell_type": "markdown",
   "metadata": {
    "id": "lQD5fW6b-V-O"
   },
   "source": [
    "# 5170 Final Project"
   ]
  },
  {
   "cell_type": "code",
   "execution_count": 1,
   "metadata": {
    "executionInfo": {
     "elapsed": 879,
     "status": "ok",
     "timestamp": 1669923370235,
     "user": {
      "displayName": "Rexx Wei",
      "userId": "03053734060311093379"
     },
     "user_tz": 300
    },
    "id": "UB3-PnWnz7fm"
   },
   "outputs": [],
   "source": [
    "import numpy as np\n",
    "import pandas as pd\n",
    "import matplotlib.pyplot as plt\n",
    "import seaborn as sns\n",
    "import sklearn # import scikit-learn\n",
    "from sklearn import preprocessing # import preprocessing utilites\n",
    "from sklearn.metrics import confusion_matrix\n",
    "from sklearn.metrics import classification_report\n",
    "from imblearn.over_sampling import SMOTE\n",
    "from sklearn.model_selection import train_test_split"
   ]
  },
  {
   "cell_type": "code",
   "execution_count": 2,
   "metadata": {
    "executionInfo": {
     "elapsed": 11,
     "status": "ok",
     "timestamp": 1669923370236,
     "user": {
      "displayName": "Rexx Wei",
      "userId": "03053734060311093379"
     },
     "user_tz": 300
    },
    "id": "Xbz3AMnv0TK6"
   },
   "outputs": [],
   "source": [
    "data = pd.read_csv(r\"C:\\[Lab]\\ml\\smarthome\\data\\00_activityscores.txt\", \n",
    "                 sep=' ', header=None,\n",
    "                 names=[\"id\", \"act01\", \"act02\", \"act03\", \"act04\", \"act05\", \"act06\", \"act07\", \"act08\", \"sum\", \"acc\", \"seq\", \"space\"])"
   ]
  },
  {
   "cell_type": "code",
   "execution_count": 3,
   "metadata": {
    "colab": {
     "base_uri": "https://localhost:8080/",
     "height": 206
    },
    "executionInfo": {
     "elapsed": 11,
     "status": "ok",
     "timestamp": 1669923370236,
     "user": {
      "displayName": "Rexx Wei",
      "userId": "03053734060311093379"
     },
     "user_tz": 300
    },
    "id": "xoLbW90xx5X7",
    "outputId": "7a5c3bfc-ebdc-4048-ce89-afff0416f386"
   },
   "outputs": [
    {
     "data": {
      "text/html": [
       "<div>\n",
       "<style scoped>\n",
       "    .dataframe tbody tr th:only-of-type {\n",
       "        vertical-align: middle;\n",
       "    }\n",
       "\n",
       "    .dataframe tbody tr th {\n",
       "        vertical-align: top;\n",
       "    }\n",
       "\n",
       "    .dataframe thead th {\n",
       "        text-align: right;\n",
       "    }\n",
       "</style>\n",
       "<table border=\"1\" class=\"dataframe\">\n",
       "  <thead>\n",
       "    <tr style=\"text-align: right;\">\n",
       "      <th></th>\n",
       "      <th>id</th>\n",
       "      <th>act01</th>\n",
       "      <th>act02</th>\n",
       "      <th>act03</th>\n",
       "      <th>act04</th>\n",
       "      <th>act05</th>\n",
       "      <th>act06</th>\n",
       "      <th>act07</th>\n",
       "      <th>act08</th>\n",
       "      <th>sum</th>\n",
       "      <th>acc</th>\n",
       "      <th>seq</th>\n",
       "      <th>space</th>\n",
       "    </tr>\n",
       "  </thead>\n",
       "  <tbody>\n",
       "    <tr>\n",
       "      <th>0</th>\n",
       "      <td>1</td>\n",
       "      <td>2</td>\n",
       "      <td>1</td>\n",
       "      <td>2</td>\n",
       "      <td>1</td>\n",
       "      <td>1</td>\n",
       "      <td>1</td>\n",
       "      <td>1</td>\n",
       "      <td>1</td>\n",
       "      <td>10</td>\n",
       "      <td>?</td>\n",
       "      <td>?</td>\n",
       "      <td>NaN</td>\n",
       "    </tr>\n",
       "    <tr>\n",
       "      <th>1</th>\n",
       "      <td>2</td>\n",
       "      <td>?</td>\n",
       "      <td>?</td>\n",
       "      <td>?</td>\n",
       "      <td>?</td>\n",
       "      <td>?</td>\n",
       "      <td>?</td>\n",
       "      <td>?</td>\n",
       "      <td>?</td>\n",
       "      <td>?</td>\n",
       "      <td>?</td>\n",
       "      <td>?</td>\n",
       "      <td>NaN</td>\n",
       "    </tr>\n",
       "    <tr>\n",
       "      <th>2</th>\n",
       "      <td>3</td>\n",
       "      <td>?</td>\n",
       "      <td>?</td>\n",
       "      <td>?</td>\n",
       "      <td>?</td>\n",
       "      <td>?</td>\n",
       "      <td>?</td>\n",
       "      <td>?</td>\n",
       "      <td>?</td>\n",
       "      <td>?</td>\n",
       "      <td>?</td>\n",
       "      <td>?</td>\n",
       "      <td>NaN</td>\n",
       "    </tr>\n",
       "    <tr>\n",
       "      <th>3</th>\n",
       "      <td>5</td>\n",
       "      <td>1</td>\n",
       "      <td>1</td>\n",
       "      <td>1</td>\n",
       "      <td>1</td>\n",
       "      <td>1</td>\n",
       "      <td>1</td>\n",
       "      <td>2</td>\n",
       "      <td>2</td>\n",
       "      <td>10</td>\n",
       "      <td>?</td>\n",
       "      <td>?</td>\n",
       "      <td>NaN</td>\n",
       "    </tr>\n",
       "    <tr>\n",
       "      <th>4</th>\n",
       "      <td>6</td>\n",
       "      <td>1</td>\n",
       "      <td>1</td>\n",
       "      <td>1</td>\n",
       "      <td>1</td>\n",
       "      <td>1</td>\n",
       "      <td>1</td>\n",
       "      <td>2</td>\n",
       "      <td>4</td>\n",
       "      <td>12</td>\n",
       "      <td>11</td>\n",
       "      <td>4</td>\n",
       "      <td>NaN</td>\n",
       "    </tr>\n",
       "  </tbody>\n",
       "</table>\n",
       "</div>"
      ],
      "text/plain": [
       "   id act01 act02 act03 act04 act05 act06 act07 act08 sum acc seq  space\n",
       "0   1     2     1     2     1     1     1     1     1  10   ?   ?    NaN\n",
       "1   2     ?     ?     ?     ?     ?     ?     ?     ?   ?   ?   ?    NaN\n",
       "2   3     ?     ?     ?     ?     ?     ?     ?     ?   ?   ?   ?    NaN\n",
       "3   5     1     1     1     1     1     1     2     2  10   ?   ?    NaN\n",
       "4   6     1     1     1     1     1     1     2     4  12  11   4    NaN"
      ]
     },
     "execution_count": 3,
     "metadata": {},
     "output_type": "execute_result"
    }
   ],
   "source": [
    "data.head(5)"
   ]
  },
  {
   "cell_type": "code",
   "execution_count": 4,
   "metadata": {
    "executionInfo": {
     "elapsed": 9,
     "status": "ok",
     "timestamp": 1669923370237,
     "user": {
      "displayName": "Rexx Wei",
      "userId": "03053734060311093379"
     },
     "user_tz": 300
    },
    "id": "pvq8Lgj_0jCG"
   },
   "outputs": [],
   "source": [
    "df = data.drop([\"acc\", \"seq\",\"space\"], axis = 1)"
   ]
  },
  {
   "cell_type": "code",
   "execution_count": 5,
   "metadata": {
    "colab": {
     "base_uri": "https://localhost:8080/"
    },
    "executionInfo": {
     "elapsed": 551,
     "status": "ok",
     "timestamp": 1669923370779,
     "user": {
      "displayName": "Rexx Wei",
      "userId": "03053734060311093379"
     },
     "user_tz": 300
    },
    "id": "TYyQROs42hzK",
    "outputId": "ce544eba-96c4-41d8-a404-80a484934c5b"
   },
   "outputs": [
    {
     "name": "stdout",
     "output_type": "stream",
     "text": [
      "42\n",
      "(388, 10)\n"
     ]
    }
   ],
   "source": [
    "print(df['sum'].value_counts()['?'])\n",
    "print(df.shape)"
   ]
  },
  {
   "cell_type": "code",
   "execution_count": 6,
   "metadata": {
    "colab": {
     "base_uri": "https://localhost:8080/"
    },
    "executionInfo": {
     "elapsed": 86,
     "status": "ok",
     "timestamp": 1669923370780,
     "user": {
      "displayName": "Rexx Wei",
      "userId": "03053734060311093379"
     },
     "user_tz": 300
    },
    "id": "atfCDG3a404U",
    "outputId": "2fbd5adb-e0f9-46d5-b255-8d5bfd413ec0"
   },
   "outputs": [
    {
     "name": "stdout",
     "output_type": "stream",
     "text": [
      "(346, 10)\n"
     ]
    }
   ],
   "source": [
    "# df.drop(df[df['Sum']== '?'].index, inplace = True)\n",
    "df = df[df['sum'] != '?']\n",
    "print(df.shape)"
   ]
  },
  {
   "cell_type": "code",
   "execution_count": 7,
   "metadata": {
    "colab": {
     "base_uri": "https://localhost:8080/"
    },
    "executionInfo": {
     "elapsed": 75,
     "status": "ok",
     "timestamp": 1669923370780,
     "user": {
      "displayName": "Rexx Wei",
      "userId": "03053734060311093379"
     },
     "user_tz": 300
    },
    "id": "RxEMwNuQSsyl",
    "outputId": "e633eb25-c455-494f-bf16-47370a500b91"
   },
   "outputs": [
    {
     "name": "stdout",
     "output_type": "stream",
     "text": [
      "8\n",
      "(346, 10)\n"
     ]
    }
   ],
   "source": [
    "print(df['act08'].value_counts()['?'])\n",
    "print(df.shape)"
   ]
  },
  {
   "cell_type": "code",
   "execution_count": 8,
   "metadata": {
    "executionInfo": {
     "elapsed": 67,
     "status": "ok",
     "timestamp": 1669923370781,
     "user": {
      "displayName": "Rexx Wei",
      "userId": "03053734060311093379"
     },
     "user_tz": 300
    },
    "id": "mDkqGTzhTCXy"
   },
   "outputs": [],
   "source": [
    "# remove all the ? from original dataset\n",
    "for col in [\"act01\", \"act02\", \"act03\", \"act04\", \"act05\", \"act06\", \"act07\", \"act08\"]:\n",
    "  df = df[df[col] != '?']"
   ]
  },
  {
   "cell_type": "code",
   "execution_count": 9,
   "metadata": {
    "colab": {
     "base_uri": "https://localhost:8080/"
    },
    "executionInfo": {
     "elapsed": 66,
     "status": "ok",
     "timestamp": 1669923370781,
     "user": {
      "displayName": "Rexx Wei",
      "userId": "03053734060311093379"
     },
     "user_tz": 300
    },
    "id": "K4VTMdHJTPdW",
    "outputId": "7ebd8ebd-5e3b-4d31-cec2-da9b046230dc"
   },
   "outputs": [
    {
     "name": "stdout",
     "output_type": "stream",
     "text": [
      "(335, 10)\n"
     ]
    }
   ],
   "source": [
    "print(df.shape)"
   ]
  },
  {
   "cell_type": "code",
   "execution_count": 10,
   "metadata": {
    "colab": {
     "base_uri": "https://localhost:8080/",
     "height": 424
    },
    "executionInfo": {
     "elapsed": 58,
     "status": "ok",
     "timestamp": 1669923370781,
     "user": {
      "displayName": "Rexx Wei",
      "userId": "03053734060311093379"
     },
     "user_tz": 300
    },
    "id": "D12V0VPW5oAI",
    "outputId": "44df6054-4401-4c6f-b790-17d0d0eb5b32"
   },
   "outputs": [
    {
     "data": {
      "text/html": [
       "<div>\n",
       "<style scoped>\n",
       "    .dataframe tbody tr th:only-of-type {\n",
       "        vertical-align: middle;\n",
       "    }\n",
       "\n",
       "    .dataframe tbody tr th {\n",
       "        vertical-align: top;\n",
       "    }\n",
       "\n",
       "    .dataframe thead th {\n",
       "        text-align: right;\n",
       "    }\n",
       "</style>\n",
       "<table border=\"1\" class=\"dataframe\">\n",
       "  <thead>\n",
       "    <tr style=\"text-align: right;\">\n",
       "      <th></th>\n",
       "      <th>id</th>\n",
       "      <th>act01</th>\n",
       "      <th>act02</th>\n",
       "      <th>act03</th>\n",
       "      <th>act04</th>\n",
       "      <th>act05</th>\n",
       "      <th>act06</th>\n",
       "      <th>act07</th>\n",
       "      <th>act08</th>\n",
       "      <th>sum</th>\n",
       "    </tr>\n",
       "  </thead>\n",
       "  <tbody>\n",
       "    <tr>\n",
       "      <th>0</th>\n",
       "      <td>1</td>\n",
       "      <td>2</td>\n",
       "      <td>1</td>\n",
       "      <td>2</td>\n",
       "      <td>1</td>\n",
       "      <td>1</td>\n",
       "      <td>1</td>\n",
       "      <td>1</td>\n",
       "      <td>1</td>\n",
       "      <td>10</td>\n",
       "    </tr>\n",
       "    <tr>\n",
       "      <th>3</th>\n",
       "      <td>5</td>\n",
       "      <td>1</td>\n",
       "      <td>1</td>\n",
       "      <td>1</td>\n",
       "      <td>1</td>\n",
       "      <td>1</td>\n",
       "      <td>1</td>\n",
       "      <td>2</td>\n",
       "      <td>2</td>\n",
       "      <td>10</td>\n",
       "    </tr>\n",
       "    <tr>\n",
       "      <th>4</th>\n",
       "      <td>6</td>\n",
       "      <td>1</td>\n",
       "      <td>1</td>\n",
       "      <td>1</td>\n",
       "      <td>1</td>\n",
       "      <td>1</td>\n",
       "      <td>1</td>\n",
       "      <td>2</td>\n",
       "      <td>4</td>\n",
       "      <td>12</td>\n",
       "    </tr>\n",
       "    <tr>\n",
       "      <th>5</th>\n",
       "      <td>7</td>\n",
       "      <td>2</td>\n",
       "      <td>1</td>\n",
       "      <td>1</td>\n",
       "      <td>1</td>\n",
       "      <td>1</td>\n",
       "      <td>1</td>\n",
       "      <td>2</td>\n",
       "      <td>2</td>\n",
       "      <td>11</td>\n",
       "    </tr>\n",
       "    <tr>\n",
       "      <th>6</th>\n",
       "      <td>8</td>\n",
       "      <td>1</td>\n",
       "      <td>4</td>\n",
       "      <td>1</td>\n",
       "      <td>1</td>\n",
       "      <td>1</td>\n",
       "      <td>1</td>\n",
       "      <td>2</td>\n",
       "      <td>2</td>\n",
       "      <td>13</td>\n",
       "    </tr>\n",
       "    <tr>\n",
       "      <th>...</th>\n",
       "      <td>...</td>\n",
       "      <td>...</td>\n",
       "      <td>...</td>\n",
       "      <td>...</td>\n",
       "      <td>...</td>\n",
       "      <td>...</td>\n",
       "      <td>...</td>\n",
       "      <td>...</td>\n",
       "      <td>...</td>\n",
       "      <td>...</td>\n",
       "    </tr>\n",
       "    <tr>\n",
       "      <th>383</th>\n",
       "      <td>394</td>\n",
       "      <td>1</td>\n",
       "      <td>1</td>\n",
       "      <td>4</td>\n",
       "      <td>2</td>\n",
       "      <td>1</td>\n",
       "      <td>1</td>\n",
       "      <td>2</td>\n",
       "      <td>1</td>\n",
       "      <td>13</td>\n",
       "    </tr>\n",
       "    <tr>\n",
       "      <th>384</th>\n",
       "      <td>395</td>\n",
       "      <td>1</td>\n",
       "      <td>1</td>\n",
       "      <td>1</td>\n",
       "      <td>1</td>\n",
       "      <td>1</td>\n",
       "      <td>1</td>\n",
       "      <td>1</td>\n",
       "      <td>1</td>\n",
       "      <td>8</td>\n",
       "    </tr>\n",
       "    <tr>\n",
       "      <th>385</th>\n",
       "      <td>397</td>\n",
       "      <td>1</td>\n",
       "      <td>1</td>\n",
       "      <td>1</td>\n",
       "      <td>2</td>\n",
       "      <td>1</td>\n",
       "      <td>1</td>\n",
       "      <td>1</td>\n",
       "      <td>1</td>\n",
       "      <td>9</td>\n",
       "    </tr>\n",
       "    <tr>\n",
       "      <th>386</th>\n",
       "      <td>399</td>\n",
       "      <td>1</td>\n",
       "      <td>1</td>\n",
       "      <td>1</td>\n",
       "      <td>1</td>\n",
       "      <td>1</td>\n",
       "      <td>2</td>\n",
       "      <td>2</td>\n",
       "      <td>1</td>\n",
       "      <td>10</td>\n",
       "    </tr>\n",
       "    <tr>\n",
       "      <th>387</th>\n",
       "      <td>400</td>\n",
       "      <td>4</td>\n",
       "      <td>1</td>\n",
       "      <td>1</td>\n",
       "      <td>1</td>\n",
       "      <td>2</td>\n",
       "      <td>1</td>\n",
       "      <td>3</td>\n",
       "      <td>1</td>\n",
       "      <td>14</td>\n",
       "    </tr>\n",
       "  </tbody>\n",
       "</table>\n",
       "<p>335 rows × 10 columns</p>\n",
       "</div>"
      ],
      "text/plain": [
       "      id act01 act02 act03 act04 act05 act06 act07 act08 sum\n",
       "0      1     2     1     2     1     1     1     1     1  10\n",
       "3      5     1     1     1     1     1     1     2     2  10\n",
       "4      6     1     1     1     1     1     1     2     4  12\n",
       "5      7     2     1     1     1     1     1     2     2  11\n",
       "6      8     1     4     1     1     1     1     2     2  13\n",
       "..   ...   ...   ...   ...   ...   ...   ...   ...   ...  ..\n",
       "383  394     1     1     4     2     1     1     2     1  13\n",
       "384  395     1     1     1     1     1     1     1     1   8\n",
       "385  397     1     1     1     2     1     1     1     1   9\n",
       "386  399     1     1     1     1     1     2     2     1  10\n",
       "387  400     4     1     1     1     2     1     3     1  14\n",
       "\n",
       "[335 rows x 10 columns]"
      ]
     },
     "execution_count": 10,
     "metadata": {},
     "output_type": "execute_result"
    }
   ],
   "source": [
    "# replace ? with NaN\n",
    "df.replace('?', None)"
   ]
  },
  {
   "cell_type": "code",
   "execution_count": 11,
   "metadata": {
    "colab": {
     "base_uri": "https://localhost:8080/"
    },
    "executionInfo": {
     "elapsed": 54,
     "status": "ok",
     "timestamp": 1669923370782,
     "user": {
      "displayName": "Rexx Wei",
      "userId": "03053734060311093379"
     },
     "user_tz": 300
    },
    "id": "M0-griEh40xw",
    "outputId": "c4d797b1-6402-485e-a8d2-98f6afad0154"
   },
   "outputs": [
    {
     "data": {
      "text/plain": [
       "id       0\n",
       "act01    0\n",
       "act02    0\n",
       "act03    0\n",
       "act04    0\n",
       "act05    0\n",
       "act06    0\n",
       "act07    0\n",
       "act08    0\n",
       "sum      0\n",
       "dtype: int64"
      ]
     },
     "execution_count": 11,
     "metadata": {},
     "output_type": "execute_result"
    }
   ],
   "source": [
    "# check NaN in DF\n",
    "df.isna().sum()"
   ]
  },
  {
   "cell_type": "code",
   "execution_count": 12,
   "metadata": {
    "executionInfo": {
     "elapsed": 46,
     "status": "ok",
     "timestamp": 1669923370782,
     "user": {
      "displayName": "Rexx Wei",
      "userId": "03053734060311093379"
     },
     "user_tz": 300
    },
    "id": "X8d5TTEiF5rd"
   },
   "outputs": [],
   "source": [
    "# read the diagnosis result\n",
    "df_diag=pd.read_csv(r\"C:\\[Lab]\\ml\\smarthome\\data\\00_diagnosis.txt\", sep=' ', names=['id','diagnosis'])"
   ]
  },
  {
   "cell_type": "code",
   "execution_count": 13,
   "metadata": {
    "colab": {
     "base_uri": "https://localhost:8080/",
     "height": 206
    },
    "executionInfo": {
     "elapsed": 44,
     "status": "ok",
     "timestamp": 1669923370782,
     "user": {
      "displayName": "Rexx Wei",
      "userId": "03053734060311093379"
     },
     "user_tz": 300
    },
    "id": "6dDYgX8z4u1V",
    "outputId": "458cb61b-962c-4a75-9805-053317a7b110"
   },
   "outputs": [
    {
     "data": {
      "text/html": [
       "<div>\n",
       "<style scoped>\n",
       "    .dataframe tbody tr th:only-of-type {\n",
       "        vertical-align: middle;\n",
       "    }\n",
       "\n",
       "    .dataframe tbody tr th {\n",
       "        vertical-align: top;\n",
       "    }\n",
       "\n",
       "    .dataframe thead th {\n",
       "        text-align: right;\n",
       "    }\n",
       "</style>\n",
       "<table border=\"1\" class=\"dataframe\">\n",
       "  <thead>\n",
       "    <tr style=\"text-align: right;\">\n",
       "      <th></th>\n",
       "      <th>id</th>\n",
       "      <th>diagnosis</th>\n",
       "    </tr>\n",
       "  </thead>\n",
       "  <tbody>\n",
       "    <tr>\n",
       "      <th>0</th>\n",
       "      <td>1</td>\n",
       "      <td>3</td>\n",
       "    </tr>\n",
       "    <tr>\n",
       "      <th>1</th>\n",
       "      <td>2</td>\n",
       "      <td>3</td>\n",
       "    </tr>\n",
       "    <tr>\n",
       "      <th>2</th>\n",
       "      <td>3</td>\n",
       "      <td>2</td>\n",
       "    </tr>\n",
       "    <tr>\n",
       "      <th>3</th>\n",
       "      <td>4</td>\n",
       "      <td>8</td>\n",
       "    </tr>\n",
       "    <tr>\n",
       "      <th>4</th>\n",
       "      <td>5</td>\n",
       "      <td>5</td>\n",
       "    </tr>\n",
       "  </tbody>\n",
       "</table>\n",
       "</div>"
      ],
      "text/plain": [
       "   id  diagnosis\n",
       "0   1          3\n",
       "1   2          3\n",
       "2   3          2\n",
       "3   4          8\n",
       "4   5          5"
      ]
     },
     "execution_count": 13,
     "metadata": {},
     "output_type": "execute_result"
    }
   ],
   "source": [
    "df_diag.head()"
   ]
  },
  {
   "cell_type": "code",
   "execution_count": 14,
   "metadata": {
    "colab": {
     "base_uri": "https://localhost:8080/"
    },
    "executionInfo": {
     "elapsed": 43,
     "status": "ok",
     "timestamp": 1669923370783,
     "user": {
      "displayName": "Rexx Wei",
      "userId": "03053734060311093379"
     },
     "user_tz": 300
    },
    "id": "TNdOI76hJO0E",
    "outputId": "205ccbd7-8e3f-47dc-8ba1-d06fa7ba88de"
   },
   "outputs": [
    {
     "name": "stdout",
     "output_type": "stream",
     "text": [
      "(400, 2)\n"
     ]
    },
    {
     "data": {
      "text/plain": [
       "400"
      ]
     },
     "execution_count": 14,
     "metadata": {},
     "output_type": "execute_result"
    }
   ],
   "source": [
    "print(df_diag.shape)\n",
    "df_diag.id.nunique()"
   ]
  },
  {
   "cell_type": "code",
   "execution_count": 15,
   "metadata": {
    "executionInfo": {
     "elapsed": 38,
     "status": "ok",
     "timestamp": 1669923370783,
     "user": {
      "displayName": "Rexx Wei",
      "userId": "03053734060311093379"
     },
     "user_tz": 300
    },
    "id": "u38AQBinJX-P"
   },
   "outputs": [],
   "source": [
    "# Merge two df into one\n",
    "df = df.merge(df_diag, on = 'id', how = 'left')"
   ]
  },
  {
   "cell_type": "code",
   "execution_count": 16,
   "metadata": {
    "colab": {
     "base_uri": "https://localhost:8080/"
    },
    "executionInfo": {
     "elapsed": 38,
     "status": "ok",
     "timestamp": 1669923370784,
     "user": {
      "displayName": "Rexx Wei",
      "userId": "03053734060311093379"
     },
     "user_tz": 300
    },
    "id": "HhtFQHswNQWn",
    "outputId": "fa7af891-18bc-403e-9b0a-c2106362180d"
   },
   "outputs": [
    {
     "data": {
      "text/plain": [
       "4     83\n",
       "2     56\n",
       "8     55\n",
       "5     40\n",
       "3     33\n",
       "7     28\n",
       "1     16\n",
       "6     15\n",
       "9      8\n",
       "10     1\n",
       "Name: diagnosis, dtype: int64"
      ]
     },
     "execution_count": 16,
     "metadata": {},
     "output_type": "execute_result"
    }
   ],
   "source": [
    "# display the original diagnosis value distribution\n",
    "df['diagnosis'].value_counts()"
   ]
  },
  {
   "cell_type": "code",
   "execution_count": 17,
   "metadata": {
    "executionInfo": {
     "elapsed": 35,
     "status": "ok",
     "timestamp": 1669923370784,
     "user": {
      "displayName": "Rexx Wei",
      "userId": "03053734060311093379"
     },
     "user_tz": 300
    },
    "id": "HivZlMKDtj_s"
   },
   "outputs": [],
   "source": [
    "# remove diag 10 from dataframe\n",
    "df = df[df['diagnosis'] != 10]"
   ]
  },
  {
   "cell_type": "code",
   "execution_count": 18,
   "metadata": {
    "colab": {
     "base_uri": "https://localhost:8080/"
    },
    "executionInfo": {
     "elapsed": 34,
     "status": "ok",
     "timestamp": 1669923370784,
     "user": {
      "displayName": "Rexx Wei",
      "userId": "03053734060311093379"
     },
     "user_tz": 300
    },
    "id": "-TE9ZzAtXS6H",
    "outputId": "3b5477ff-fec7-4297-ab7d-390e2a420eb9"
   },
   "outputs": [
    {
     "data": {
      "text/plain": [
       "4    83\n",
       "2    56\n",
       "8    55\n",
       "5    40\n",
       "3    33\n",
       "7    28\n",
       "1    16\n",
       "6    15\n",
       "9     8\n",
       "Name: diagnosis, dtype: int64"
      ]
     },
     "execution_count": 18,
     "metadata": {},
     "output_type": "execute_result"
    }
   ],
   "source": [
    "# display diagnosis value distribution\n",
    "df['diagnosis'].value_counts()"
   ]
  },
  {
   "cell_type": "code",
   "execution_count": 19,
   "metadata": {
    "executionInfo": {
     "elapsed": 32,
     "status": "ok",
     "timestamp": 1669923370785,
     "user": {
      "displayName": "Rexx Wei",
      "userId": "03053734060311093379"
     },
     "user_tz": 300
    },
    "id": "HdZ9papROxEx"
   },
   "outputs": [],
   "source": [
    "# Diagnosis Result List\n",
    "# *1 = dementia\n",
    "# *2 = MCI (Mild Cognitive Impairment)\n",
    "# 3 = middle age 45-59\n",
    "# 4 = young-old 60-74\n",
    "# 5 = old-old 75+\n",
    "# *6 = other medical\n",
    "# 7 = watch/at risk - follow longitudinally\n",
    "# 8 = younger adult\n",
    "# 9 = younger adult, English second language\n",
    "# 10 = diagnosis not available"
   ]
  },
  {
   "cell_type": "code",
   "execution_count": 20,
   "metadata": {
    "executionInfo": {
     "elapsed": 31,
     "status": "ok",
     "timestamp": 1669923370785,
     "user": {
      "displayName": "Rexx Wei",
      "userId": "03053734060311093379"
     },
     "user_tz": 300
    },
    "id": "9HJHZXw1PShu"
   },
   "outputs": [],
   "source": [
    "y=df['diagnosis']\n",
    "X=df.drop(['id','diagnosis'], axis = 1)"
   ]
  },
  {
   "cell_type": "code",
   "execution_count": 21,
   "metadata": {
    "executionInfo": {
     "elapsed": 31,
     "status": "ok",
     "timestamp": 1669923370785,
     "user": {
      "displayName": "Rexx Wei",
      "userId": "03053734060311093379"
     },
     "user_tz": 300
    },
    "id": "7eFGqbBjO8p5"
   },
   "outputs": [],
   "source": [
    "# With the use of mapping function, we replace label in the form of string to an integer. \n",
    "# Mapping result 1,2,6 -> 1 (means might have some medical issue)\n",
    "# Mapping result 3,4,5,7,8,9 -> 0 (means should be without medical issue)\n",
    "\n",
    "output_map = {3: 0, 4: 0, 5: 0, 7: 0, 8: 0, 9: 0, 1: 1, 2: 1, 6: 1}\n",
    "y_relabel = y.map(output_map)"
   ]
  },
  {
   "cell_type": "code",
   "execution_count": 22,
   "metadata": {
    "colab": {
     "base_uri": "https://localhost:8080/"
    },
    "executionInfo": {
     "elapsed": 31,
     "status": "ok",
     "timestamp": 1669923370786,
     "user": {
      "displayName": "Rexx Wei",
      "userId": "03053734060311093379"
     },
     "user_tz": 300
    },
    "id": "sQNOWTHfPk44",
    "outputId": "d4a91762-c489-4e06-8b56-4ac44e44a278"
   },
   "outputs": [
    {
     "data": {
      "text/plain": [
       "0    247\n",
       "1     87\n",
       "Name: diagnosis, dtype: int64"
      ]
     },
     "execution_count": 22,
     "metadata": {},
     "output_type": "execute_result"
    }
   ],
   "source": [
    "# display the result after mapping\n",
    "y_relabel.value_counts()"
   ]
  },
  {
   "cell_type": "code",
   "execution_count": 23,
   "metadata": {
    "executionInfo": {
     "elapsed": 28,
     "status": "ok",
     "timestamp": 1669923370786,
     "user": {
      "displayName": "Rexx Wei",
      "userId": "03053734060311093379"
     },
     "user_tz": 300
    },
    "id": "xaFTDEbKQrHi"
   },
   "outputs": [],
   "source": [
    "X_train, X_test, y_train, y_test = train_test_split(X, y_relabel, test_size=0.2)"
   ]
  },
  {
   "cell_type": "code",
   "execution_count": 24,
   "metadata": {
    "colab": {
     "base_uri": "https://localhost:8080/"
    },
    "executionInfo": {
     "elapsed": 27,
     "status": "ok",
     "timestamp": 1669923370786,
     "user": {
      "displayName": "Rexx Wei",
      "userId": "03053734060311093379"
     },
     "user_tz": 300
    },
    "id": "pvgLSHuQWTT4",
    "outputId": "d52a3176-3481-4c8d-c3aa-babd5ae2f2ad"
   },
   "outputs": [
    {
     "data": {
      "text/plain": [
       "0    196\n",
       "1     71\n",
       "Name: diagnosis, dtype: int64"
      ]
     },
     "execution_count": 24,
     "metadata": {},
     "output_type": "execute_result"
    }
   ],
   "source": [
    "y_train.value_counts()"
   ]
  },
  {
   "cell_type": "code",
   "execution_count": 25,
   "metadata": {
    "colab": {
     "base_uri": "https://localhost:8080/"
    },
    "executionInfo": {
     "elapsed": 25,
     "status": "ok",
     "timestamp": 1669923370787,
     "user": {
      "displayName": "Rexx Wei",
      "userId": "03053734060311093379"
     },
     "user_tz": 300
    },
    "id": "JR-k5RzeVjiw",
    "outputId": "005fa20d-52a0-4010-efe7-557f9984337b"
   },
   "outputs": [
    {
     "data": {
      "text/plain": [
       "1    196\n",
       "0    196\n",
       "Name: diagnosis, dtype: int64"
      ]
     },
     "execution_count": 25,
     "metadata": {},
     "output_type": "execute_result"
    }
   ],
   "source": [
    "from imblearn.over_sampling import SMOTE\n",
    "\n",
    "X_resampled, y_resampled = SMOTE().fit_resample(X_train, y_train)\n",
    "\n",
    "y_resampled.value_counts()"
   ]
  },
  {
   "cell_type": "code",
   "execution_count": 26,
   "metadata": {
    "executionInfo": {
     "elapsed": 21,
     "status": "ok",
     "timestamp": 1669923370787,
     "user": {
      "displayName": "Rexx Wei",
      "userId": "03053734060311093379"
     },
     "user_tz": 300
    },
    "id": "C87lHb8oQ8RK"
   },
   "outputs": [],
   "source": [
    "scaler = preprocessing.StandardScaler().fit(X_train)\n",
    "\n",
    "X_train_scaled = scaler.transform(X_train)"
   ]
  },
  {
   "cell_type": "code",
   "execution_count": 27,
   "metadata": {
    "executionInfo": {
     "elapsed": 21,
     "status": "ok",
     "timestamp": 1669923370787,
     "user": {
      "displayName": "Rexx Wei",
      "userId": "03053734060311093379"
     },
     "user_tz": 300
    },
    "id": "vB56QGybrOqQ"
   },
   "outputs": [],
   "source": [
    "# from sklearn.externals import joblib\n",
    "import joblib\n",
    "# import sklearn.external.joblib as extjoblib\n",
    "\n",
    "scaler_file = \"scaler.save\"\n",
    "joblib.dump(scaler, scaler_file) \n",
    "\n",
    "# And to load...\n",
    "scaler = joblib.load(scaler_file) "
   ]
  },
  {
   "cell_type": "code",
   "execution_count": 28,
   "metadata": {
    "executionInfo": {
     "elapsed": 21,
     "status": "ok",
     "timestamp": 1669923370788,
     "user": {
      "displayName": "Rexx Wei",
      "userId": "03053734060311093379"
     },
     "user_tz": 300
    },
    "id": "UvZKccmzUNbO"
   },
   "outputs": [],
   "source": [
    "X_test_scaled = scaler.transform(X_test)"
   ]
  },
  {
   "cell_type": "code",
   "execution_count": 29,
   "metadata": {
    "executionInfo": {
     "elapsed": 19,
     "status": "ok",
     "timestamp": 1669923370788,
     "user": {
      "displayName": "Rexx Wei",
      "userId": "03053734060311093379"
     },
     "user_tz": 300
    },
    "id": "JDqzy1kOUiw_"
   },
   "outputs": [],
   "source": [
    "from sklearn.ensemble import GradientBoostingClassifier\n",
    "from sklearn.inspection import permutation_importance\n",
    "from sklearn.metrics import confusion_matrix\n",
    "from sklearn.metrics import classification_report"
   ]
  },
  {
   "cell_type": "code",
   "execution_count": 30,
   "metadata": {
    "executionInfo": {
     "elapsed": 18,
     "status": "ok",
     "timestamp": 1669923370788,
     "user": {
      "displayName": "Rexx Wei",
      "userId": "03053734060311093379"
     },
     "user_tz": 300
    },
    "id": "KgcGG32aVSc0"
   },
   "outputs": [],
   "source": [
    "# helper method to print basic model metrics\n",
    "def metrics(y_true, y_pred):\n",
    "    # print('Confusion matrix:\\n', confusion_matrix(y_true, y_pred))\n",
    "    print('\\nReport:\\n', classification_report(y_true, y_pred))"
   ]
  },
  {
   "cell_type": "code",
   "execution_count": 31,
   "metadata": {
    "colab": {
     "base_uri": "https://localhost:8080/"
    },
    "executionInfo": {
     "elapsed": 310,
     "status": "ok",
     "timestamp": 1669923371080,
     "user": {
      "displayName": "Rexx Wei",
      "userId": "03053734060311093379"
     },
     "user_tz": 300
    },
    "id": "LGmSFwCSbMbQ",
    "outputId": "377cc221-5b63-4834-d223-32aa7e8ebb1e"
   },
   "outputs": [
    {
     "data": {
      "text/plain": [
       "GradientBoostingClassifier(max_depth=100)"
      ]
     },
     "execution_count": 31,
     "metadata": {},
     "output_type": "execute_result"
    }
   ],
   "source": [
    "clf = GradientBoostingClassifier(n_estimators = 100, max_depth = 100)\n",
    "clf.fit(X_train_scaled, y_train)"
   ]
  },
  {
   "cell_type": "code",
   "execution_count": null,
   "metadata": {},
   "outputs": [],
   "source": [
    "modelname = \"xgb_clf.save\"\n",
    "joblib.dump(clf, modelname)"
   ]
  },
  {
   "cell_type": "code",
   "execution_count": 32,
   "metadata": {
    "colab": {
     "base_uri": "https://localhost:8080/"
    },
    "executionInfo": {
     "elapsed": 529,
     "status": "ok",
     "timestamp": 1669923371604,
     "user": {
      "displayName": "Rexx Wei",
      "userId": "03053734060311093379"
     },
     "user_tz": 300
    },
    "id": "Edf3QRC7t62R",
    "outputId": "077eaf26-06d7-4560-8110-7ebe24825f86"
   },
   "outputs": [
    {
     "data": {
      "text/plain": [
       "0    51\n",
       "1    16\n",
       "Name: diagnosis, dtype: int64"
      ]
     },
     "execution_count": 32,
     "metadata": {},
     "output_type": "execute_result"
    }
   ],
   "source": [
    "y_test.value_counts()"
   ]
  },
  {
   "cell_type": "code",
   "execution_count": 33,
   "metadata": {
    "executionInfo": {
     "elapsed": 35,
     "status": "ok",
     "timestamp": 1669923371606,
     "user": {
      "displayName": "Rexx Wei",
      "userId": "03053734060311093379"
     },
     "user_tz": 300
    },
    "id": "4CoqjuZ9Rjxh"
   },
   "outputs": [],
   "source": [
    "#resample the validation dataset\n",
    "X_test_resampled, y_test_resampled = SMOTE().fit_resample(X_test_scaled, y_test)"
   ]
  },
  {
   "cell_type": "code",
   "execution_count": 34,
   "metadata": {
    "colab": {
     "base_uri": "https://localhost:8080/"
    },
    "executionInfo": {
     "elapsed": 35,
     "status": "ok",
     "timestamp": 1669923371608,
     "user": {
      "displayName": "Rexx Wei",
      "userId": "03053734060311093379"
     },
     "user_tz": 300
    },
    "id": "AYCT8e5wR1__",
    "outputId": "075d2756-7982-4689-c4f5-a71d821d6090"
   },
   "outputs": [
    {
     "data": {
      "text/plain": [
       "1    51\n",
       "0    51\n",
       "Name: diagnosis, dtype: int64"
      ]
     },
     "execution_count": 34,
     "metadata": {},
     "output_type": "execute_result"
    }
   ],
   "source": [
    "y_test_resampled.value_counts()"
   ]
  },
  {
   "cell_type": "code",
   "execution_count": 35,
   "metadata": {
    "colab": {
     "base_uri": "https://localhost:8080/"
    },
    "executionInfo": {
     "elapsed": 28,
     "status": "ok",
     "timestamp": 1669923371609,
     "user": {
      "displayName": "Rexx Wei",
      "userId": "03053734060311093379"
     },
     "user_tz": 300
    },
    "id": "Qi4qdxKoR8U-",
    "outputId": "293dfd2e-fe31-43a0-ddc4-be872bab0560"
   },
   "outputs": [
    {
     "name": "stdout",
     "output_type": "stream",
     "text": [
      "\n",
      "Report:\n",
      "               precision    recall  f1-score   support\n",
      "\n",
      "           0       0.61      0.80      0.69        51\n",
      "           1       0.71      0.49      0.58        51\n",
      "\n",
      "    accuracy                           0.65       102\n",
      "   macro avg       0.66      0.65      0.64       102\n",
      "weighted avg       0.66      0.65      0.64       102\n",
      "\n"
     ]
    }
   ],
   "source": [
    "# performance WITH resample validation set\n",
    "y_re_pred = clf.predict(X_test_resampled)\n",
    "metrics(y_test_resampled, y_re_pred)"
   ]
  }
 ],
 "metadata": {
  "colab": {
   "authorship_tag": "ABX9TyOHnVVRMu/xSBA4h4rNXWor",
   "mount_file_id": "1UVUaWIyp_tvtk47ahJQysZTOtK3T42e1",
   "provenance": []
  },
  "gpuClass": "standard",
  "kernelspec": {
   "display_name": "Python 3",
   "language": "python",
   "name": "python3"
  },
  "language_info": {
   "codemirror_mode": {
    "name": "ipython",
    "version": 3
   },
   "file_extension": ".py",
   "mimetype": "text/x-python",
   "name": "python",
   "nbconvert_exporter": "python",
   "pygments_lexer": "ipython3",
   "version": "3.6.13"
  }
 },
 "nbformat": 4,
 "nbformat_minor": 1
}
